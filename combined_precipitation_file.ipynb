{
  "nbformat": 4,
  "nbformat_minor": 0,
  "metadata": {
    "colab": {
      "name": "combined_precipitation_file.ipynb",
      "provenance": [],
      "collapsed_sections": []
    },
    "kernelspec": {
      "name": "python3",
      "display_name": "Python 3"
    },
    "language_info": {
      "name": "python"
    }
  },
  "cells": [
    {
      "cell_type": "code",
      "metadata": {
        "id": "vfLyHm_hSHuv"
      },
      "source": [
        "import pandas as pd\n",
        "import numpy as np"
      ],
      "execution_count": null,
      "outputs": []
    },
    {
      "cell_type": "code",
      "metadata": {
        "id": "w5GNU_imT2rU"
      },
      "source": [
        "prec_1 = pd.read_csv(\"prec_for_centers_AR_FL.csv\")\n",
        "prec_2 = pd.read_csv(\"prec_for_centers_MS_AL_GA.csv\")\n",
        "prec_3 = pd.read_csv(\"prec_for_centers_NC_TN.csv\")\n",
        "\n",
        "final_prec = pd.concat([prec_1,prec_2,prec_3])\n",
        "final_prec.to_csv(\"combined_precipitation_file.csv\",index=False)"
      ],
      "execution_count": null,
      "outputs": []
    }
  ]
}